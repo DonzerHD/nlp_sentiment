{
 "cells": [
  {
   "attachments": {},
   "cell_type": "markdown",
   "metadata": {},
   "source": [
    "# Emotion Analysis with NLP\n",
    "\n",
    "In this notebook, we will perform an emotion analysis using Natural Language Processing (NLP) techniques. We will use the NLTK and Spacy libraries to preprocess the text data, and then we will implement machine learning models from the Scikit-learn library to classify the emotions.\n",
    "\n",
    "## Importing Libraries\n",
    "\n",
    "First, we import the necessary libraries."
   ]
  },
  {
   "cell_type": "code",
   "execution_count": 2,
   "metadata": {},
   "outputs": [
    {
     "name": "stderr",
     "output_type": "stream",
     "text": [
      "/home/thomas59/anaconda3/envs/machine-learning/lib/python3.10/site-packages/torch/cuda/__init__.py:546: UserWarning: Can't initialize NVML\n",
      "  warnings.warn(\"Can't initialize NVML\")\n"
     ]
    }
   ],
   "source": [
    "import pandas as pd\n",
    "import spacy\n",
    "from collections import Counter\n",
    "from sklearn.metrics.pairwise import cosine_similarity\n",
    "import seaborn as sns\n",
    "from wordcloud import WordCloud\n",
    "import matplotlib.pyplot as plt\n",
    "import string\n",
    "from sklearn.feature_extraction.text import CountVectorizer\n",
    "from sklearn.model_selection import train_test_split\n",
    "from sklearn.linear_model import LogisticRegression\n",
    "from sklearn.metrics import classification_report\n",
    "from sklearn.feature_extraction.text import TfidfVectorizer"
   ]
  },
  {
   "attachments": {},
   "cell_type": "markdown",
   "metadata": {},
   "source": [
    "## Loading the Data\n",
    "\n",
    "We load the emotion dataset and check the distribution of emotions."
   ]
  },
  {
   "cell_type": "code",
   "execution_count": 3,
   "metadata": {},
   "outputs": [
    {
     "name": "stdout",
     "output_type": "stream",
     "text": [
      "happy       7029\n",
      "sadness     6265\n",
      "anger       2993\n",
      "fear        2652\n",
      "love        1641\n",
      "surprise     879\n",
      "Name: Emotion, dtype: int64\n"
     ]
    }
   ],
   "source": [
    "df = pd.read_csv('../data/Emotion_final.csv')\n",
    "emotion_distribution = df['Emotion'].value_counts()\n",
    "print(emotion_distribution)"
   ]
  },
  {
   "attachments": {},
   "cell_type": "markdown",
   "metadata": {},
   "source": [
    "## Preprocessing the Text Data\n",
    "\n",
    "We will define a function `process` to perform several preprocessing steps:\n",
    "- Remove punctuation\n",
    "- Remove stopwords\n",
    "- Tokenize the text"
   ]
  },
  {
   "cell_type": "code",
   "execution_count": 4,
   "metadata": {},
   "outputs": [],
   "source": [
    "nlp = spacy.load('en_core_web_sm')\n",
    "stop_words = nlp.Defaults.stop_words\n",
    "\n",
    "def remove_punctuation(text):\n",
    "    return text.translate(str.maketrans('', '', string.punctuation))\n",
    "\n",
    "custom_stopwords = ['nt', 'm', 's', 't', 've' , 'feel', 'feeling' , 'feelings' , 'like' , 'know' , 'want' , 'time' , 'think' , 'little']\n",
    "stop_words = stop_words.union(custom_stopwords)\n",
    "\n",
    "def remove_stopwords(text):\n",
    "    doc = nlp(text)\n",
    "    return \" \".join([token.text for token in doc if not token.is_stop])\n",
    "\n",
    "def process(text):\n",
    "    text = remove_punctuation(text)\n",
    "    text = remove_stopwords(text)\n",
    "    return text\n",
    "\n",
    "df['Text'] = df['Text'].apply(process)\n"
   ]
  },
  {
   "attachments": {},
   "cell_type": "markdown",
   "metadata": {},
   "source": [
    "## Most Common Words for Each Emotion\n",
    "\n",
    "We identify the 30 most common words for each emotion, excluding stopwords."
   ]
  },
  {
   "cell_type": "code",
   "execution_count": 5,
   "metadata": {},
   "outputs": [
    {
     "name": "stdout",
     "output_type": "stream",
     "text": [
      "sadness: [('life', 228), ('people', 226), ('bit', 220), ('things', 194), ('day', 177), ('going', 164), ('way', 162), ('don', 155), ('pretty', 146), ('right', 143), ('love', 137), ('felt', 136), ('sad', 130), ('bad', 126), ('today', 125), ('depressed', 123), ('need', 121), ('work', 121), ('good', 121), ('having', 110), ('days', 110), ('miserable', 108), ('kind', 101), ('lost', 101), ('feels', 99), ('home', 99), ('left', 99), ('look', 98), ('help', 97), ('sorry', 97)]\n",
      "anger: [('people', 149), ('angry', 116), ('things', 105), ('bit', 103), ('way', 102), ('don', 93), ('offended', 92), ('resentful', 87), ('cold', 86), ('irritable', 84), ('going', 81), ('bothered', 81), ('greedy', 77), ('life', 74), ('mad', 74), ('insulted', 73), ('irritated', 72), ('need', 71), ('pissed', 71), ('violent', 70), ('annoyed', 70), ('hated', 70), ('dissatisfied', 68), ('fucked', 68), ('rude', 68), ('right', 67), ('bitchy', 67), ('cranky', 67), ('frustrated', 66), ('rushed', 66)]\n",
      "love: [('love', 119), ('sweet', 84), ('loving', 82), ('people', 80), ('caring', 78), ('passionate', 75), ('sympathetic', 72), ('life', 71), ('liked', 70), ('hot', 68), ('tender', 64), ('lovely', 63), ('longing', 63), ('loved', 62), ('need', 61), ('accepted', 60), ('nostalgic', 59), ('gentle', 59), ('horny', 59), ('naughty', 58), ('romantic', 56), ('blessed', 56), ('supporting', 56), ('loyal', 56), ('supportive', 55), ('beloved', 53), ('feels', 52), ('way', 52), ('fond', 48), ('generous', 48)]\n",
      "surprise: [('amazed', 83), ('impressed', 72), ('curious', 72), ('overwhelmed', 69), ('funny', 68), ('surprised', 68), ('weird', 67), ('strange', 60), ('amazing', 56), ('shocked', 54), ('stunned', 43), ('dazed', 43), ('bit', 40), ('people', 37), ('feels', 30), ('life', 26), ('things', 26), ('remember', 26), ('way', 24), ('looked', 24), ('bewildered', 24), ('going', 21), ('actually', 20), ('work', 19), ('find', 19), ('startled', 19), ('love', 18), ('got', 18), ('trying', 18), ('bewilderment', 18)]\n",
      "fear: [('bit', 143), ('anxious', 125), ('people', 105), ('nervous', 103), ('strange', 92), ('terrified', 89), ('going', 89), ('afraid', 85), ('agitated', 84), ('scared', 83), ('frightened', 82), ('weird', 79), ('things', 77), ('unsure', 75), ('vulnerable', 75), ('apprehensive', 74), ('uncertain', 74), ('overwhelmed', 73), ('way', 73), ('shaken', 71), ('pressured', 68), ('day', 66), ('hesitant', 66), ('reluctant', 65), ('paranoid', 65), ('intimidated', 64), ('shy', 64), ('insecure', 64), ('felt', 61), ('uncomfortable', 60)]\n",
      "happy: [('people', 266), ('good', 246), ('pretty', 236), ('life', 235), ('love', 231), ('going', 219), ('happy', 212), ('day', 206), ('things', 180), ('way', 180), ('need', 168), ('work', 158), ('today', 153), ('right', 153), ('don', 149), ('sure', 144), ('excited', 144), ('feels', 133), ('better', 132), ('got', 129), ('makes', 116), ('help', 113), ('look', 111), ('new', 107), ('bit', 106), ('important', 105), ('year', 104), ('able', 103), ('days', 102), ('come', 102)]\n"
     ]
    }
   ],
   "source": [
    "def get_most_common_words(texts, num_words):\n",
    "    words = [word for text in texts for word in text.split() if word not in stop_words]\n",
    "    return Counter(words).most_common(num_words)\n",
    "\n",
    "for emotion in df['Emotion'].unique():\n",
    "    texts = df[df['Emotion'] == emotion]['Text']\n",
    "    print(f'{emotion}: {get_most_common_words(texts, 30)}')\n"
   ]
  },
  {
   "attachments": {},
   "cell_type": "markdown",
   "metadata": {},
   "source": [
    "## Proximity Metric Between Emotions\n",
    "\n",
    "We define a proximity metric between the emotions based on the 30 most common words and display it on a heatmap."
   ]
  },
  {
   "cell_type": "code",
   "execution_count": 14,
   "metadata": {},
   "outputs": [
    {
     "data": {
      "image/png": "[encoded data removed]",
      "text/plain": [
       "<Figure size 800x600 with 2 Axes>"
      ]
     },
     "metadata": {},
     "output_type": "display_data"
    }
   ],
   "source": [
    "# Define the list of emotions\n",
    "emotions = df['Emotion'].unique()\n",
    "\n",
    "# Create an empty similarity matrix\n",
    "similarity_matrix = pd.DataFrame(0, index=emotions, columns=emotions)\n",
    "\n",
    "# Calculate the proximity metric based on common words\n",
    "for emotion1 in emotions:\n",
    "    for emotion2 in emotions:\n",
    "        common_words = set([word for word, _ in get_most_common_words(df[df['Emotion'] == emotion1]['Text'], 30)]).intersection([word for word, _ in get_most_common_words(df[df['Emotion'] == emotion2]['Text'], 30)])\n",
    "        similarity_matrix.loc[emotion1, emotion2] = len(common_words)\n",
    "\n",
    "# Plot the similarity matrix as a heatmap\n",
    "plt.figure(figsize=(8, 6))\n",
    "sns.heatmap(similarity_matrix, annot=True, cmap=\"YlGnBu\")\n",
    "plt.title(\"Proximity Metric between Emotions\")\n",
    "plt.show()"
   ]
  },
  {
   "attachments": {},
   "cell_type": "markdown",
   "metadata": {},
   "source": [
    "## Bag of Words Model\n",
    "\n",
    "We create a Bag of Words model using a logistic regression classifier.\n"
   ]
  },
  {
   "cell_type": "code",
   "execution_count": 7,
   "metadata": {},
   "outputs": [
    {
     "name": "stdout",
     "output_type": "stream",
     "text": [
      "              precision    recall  f1-score   support\n",
      "\n",
      "       anger       0.89      0.88      0.89       993\n",
      "        fear       0.85      0.84      0.84       871\n",
      "       happy       0.94      0.90      0.92      2279\n",
      "        love       0.75      0.93      0.83       550\n",
      "     sadness       0.94      0.90      0.92      2110\n",
      "    surprise       0.66      0.88      0.76       279\n",
      "\n",
      "    accuracy                           0.89      7082\n",
      "   macro avg       0.84      0.89      0.86      7082\n",
      "weighted avg       0.90      0.89      0.89      7082\n",
      "\n"
     ]
    }
   ],
   "source": [
    "X_train, X_test, y_train, y_test = train_test_split(df['Text'], df['Emotion'], test_size=0.33, random_state=42)\n",
    "\n",
    "vectorizer = CountVectorizer()\n",
    "X_train = vectorizer.fit_transform(X_train)\n",
    "X_test = vectorizer.transform(X_test)\n",
    "\n",
    "model = LogisticRegression(max_iter=1000, class_weight='balanced')\n",
    "model.fit(X_train, y_train)\n",
    "\n",
    "y_pred = model.predict(X_test)\n",
    "print(classification_report(y_test, y_pred))\n"
   ]
  },
  {
   "attachments": {},
   "cell_type": "markdown",
   "metadata": {},
   "source": [
    "## TF-IDF Model\n",
    "\n",
    "We create a TF-IDF model using a logistic regression classifier.\n"
   ]
  },
  {
   "cell_type": "code",
   "execution_count": 8,
   "metadata": {},
   "outputs": [
    {
     "name": "stdout",
     "output_type": "stream",
     "text": [
      "              precision    recall  f1-score   support\n",
      "\n",
      "       anger       0.88      0.89      0.88       993\n",
      "        fear       0.85      0.84      0.84       871\n",
      "       happy       0.93      0.88      0.91      2279\n",
      "        love       0.73      0.93      0.82       550\n",
      "     sadness       0.94      0.89      0.91      2110\n",
      "    surprise       0.66      0.89      0.75       279\n",
      "\n",
      "    accuracy                           0.88      7082\n",
      "   macro avg       0.83      0.89      0.85      7082\n",
      "weighted avg       0.89      0.88      0.89      7082\n",
      "\n"
     ]
    }
   ],
   "source": [
    "from sklearn.model_selection import train_test_split\n",
    "from sklearn.feature_extraction.text import TfidfVectorizer\n",
    "from sklearn.linear_model import LogisticRegression\n",
    "from sklearn.metrics import classification_report\n",
    "import pickle\n",
    "\n",
    "# Supposons que df est votre DataFrame et qu'il contient deux colonnes : 'Text' et 'Emotion'\n",
    "X_train, X_test, y_train, y_test = train_test_split(df['Text'], df['Emotion'], test_size=0.33, random_state=42)\n",
    "\n",
    "vectorizer = TfidfVectorizer()\n",
    "X_train = vectorizer.fit_transform(X_train)\n",
    "X_test = vectorizer.transform(X_test)\n",
    "\n",
    "model = LogisticRegression(max_iter=1000, class_weight='balanced')\n",
    "model.fit(X_train, y_train)\n",
    "\n",
    "y_pred = model.predict(X_test)\n",
    "\n",
    "# Enregistrer le modèle dans un fichier pickle\n",
    "with open('../model/model.pkl', 'wb') as f:\n",
    "    pickle.dump(model, f)\n",
    "\n",
    "# Enregistrer le vectorizer dans un fichier pickle\n",
    "with open('../model/vectorizer.pkl', 'wb') as f:\n",
    "    pickle.dump(vectorizer, f)\n",
    "\n",
    "print(classification_report(y_test, y_pred))\n"
   ]
  },
  {
   "attachments": {},
   "cell_type": "markdown",
   "metadata": {},
   "source": [
    "## Predicting Emotion for a New Text\n",
    "\n",
    "We use our trained model to predict the emotion for a new text.\n"
   ]
  },
  {
   "cell_type": "code",
   "execution_count": 9,
   "metadata": {},
   "outputs": [
    {
     "name": "stdout",
     "output_type": "stream",
     "text": [
      "The predicted emotion for the text is: happy\n"
     ]
    }
   ],
   "source": [
    "text = \"I'm so happy today!\"\n",
    "text_processed = process(text)\n",
    "text_vectorized = vectorizer.transform([text_processed])\n",
    "prediction = model.predict(text_vectorized)\n",
    "print(f\"The predicted emotion for the text is: {prediction[0]}\")"
   ]
  }
 ],
 "metadata": {
  "kernelspec": {
   "display_name": "machine-learning",
   "language": "python",
   "name": "python3"
  },
  "language_info": {
   "codemirror_mode": {
    "name": "ipython",
    "version": 3
   },
   "file_extension": ".py",
   "mimetype": "text/x-python",
   "name": "python",
   "nbconvert_exporter": "python",
   "pygments_lexer": "ipython3",
   "version": "3.10.11"
  },
  "orig_nbformat": 4
 },
 "nbformat": 4,
 "nbformat_minor": 2
}
